{
  "nbformat": 4,
  "nbformat_minor": 0,
  "metadata": {
    "colab": {
      "name": "Covid19India-Csv-Files",
      "provenance": [],
      "authorship_tag": "ABX9TyMJmUE3vvoZz9H+m8pLNbEJ",
      "include_colab_link": true
    },
    "kernelspec": {
      "name": "python3",
      "display_name": "Python 3"
    }
  },
  "cells": [
    {
      "cell_type": "markdown",
      "metadata": {
        "id": "view-in-github",
        "colab_type": "text"
      },
      "source": [
        "<a href=\"https://colab.research.google.com/github/sanjaydasgupta/covid-19/blob/master/Covid19India-Csv-Files.ipynb\" target=\"_parent\"><img src=\"https://colab.research.google.com/assets/colab-badge.svg\" alt=\"Open In Colab\"/></a>"
      ]
    },
    {
      "cell_type": "markdown",
      "metadata": {
        "id": "0EWJoI761MUC"
      },
      "source": [
        "# Generate CSV files for 20 states with highest infection/recovery numbers\n",
        "\n",
        "This notebook downloads data from [https://www.covid19india.org](https://www.covid19india.org) and creates separate CSV files for each of the 20 states with the highest infection/recovery numbers"
      ]
    },
    {
      "cell_type": "markdown",
      "metadata": {
        "id": "61X3oEv-ZAiX"
      },
      "source": [
        "## Usual Imports"
      ]
    },
    {
      "cell_type": "code",
      "metadata": {
        "id": "hogQOvM4LIX6"
      },
      "source": [
        "from datetime import datetime\n",
        "import pandas as pd\n",
        "import numpy as np"
      ],
      "execution_count": 1,
      "outputs": []
    },
    {
      "cell_type": "markdown",
      "metadata": {
        "id": "AlOwpOb2XmGd"
      },
      "source": [
        "## Adapter Class for `https://www.covid19india.org`"
      ]
    },
    {
      "cell_type": "code",
      "metadata": {
        "id": "aXQhbqtQKpgn",
        "colab": {
          "base_uri": "https://localhost:8080/"
        },
        "outputId": "3a20472e-cde0-4366-e614-afffa19348f1"
      },
      "source": [
        "class Covid19India:\n",
        "\n",
        "  def __init__(self):\n",
        "    # Fetch state-code to state-name conversion table\n",
        "    states_wise_url = 'https://api.covid19india.org/csv/latest/state_wise.csv'\n",
        "    state_wise_df = pd.read_csv(states_wise_url)\n",
        "    self.state_name_map = {code: name for code, name in state_wise_df[['State_code', 'State']].values}\n",
        "    # Fetch state-wise daily COVID19 data\n",
        "    state_wise_daily_url = 'https://api.covid19india.org/csv/latest/state_wise_daily.csv'\n",
        "    state_wise_daily_df = pd.read_csv(state_wise_daily_url)\n",
        "    if state_wise_daily_df.applymap(pd.isnull).sum().sum() > 0:\n",
        "      raise ValueError(\"Unknown values found in 'state_wise_daily.csv'\")\n",
        "    state_wise_daily_df['Date'] = pd.to_datetime(state_wise_daily_df['Date']).map(datetime.date)\n",
        "    self.date_min = state_wise_daily_df['Date'].min()\n",
        "    self.date_max = state_wise_daily_df['Date'].max()\n",
        "    self.state_wise_daily_df = state_wise_daily_df\n",
        "\n",
        "  def __repr__(self):\n",
        "    return '%s(%r, %r)' % (self.__class__.__name__, self.date_min, self.date_max)\n",
        "\n",
        "  def get_state_data(self, state_code, date_start=None, date_end=None):\n",
        "    if state_code not in self.state_name_map:\n",
        "      print(self.state_name_map.keys())\n",
        "      raise ValueError(\"invalid state_code %r\" % state_code)\n",
        "    if date_start:\n",
        "      date_start = pd.to_datetime(date_start).date()\n",
        "      if date_start < self.date_min:\n",
        "        raise ValueError(\"date_start must be >= %r\" % self.date_min)\n",
        "    else:\n",
        "      date_start = self.date_min\n",
        "    if date_end:\n",
        "      date_end = pd.to_datetime(date_end).date()\n",
        "      if date_end > self.date_max:\n",
        "        raise ValueError(\"date_end must be <= %r\" % self.date_max)\n",
        "    else:\n",
        "      date_end = self.date_max\n",
        "    dfs = self.state_wise_daily_df[np.logical_and(self.state_wise_daily_df['Date'] >= date_start, \n",
        "        self.state_wise_daily_df['Date'] <= date_end)]\n",
        "    dfs = dfs[['Date', 'Status', state_code]].groupby(['Date', 'Status']).sum().unstack()\n",
        "    dfs.columns = [p[1] for p in dfs.columns]\n",
        "    return dfs.reset_index()\n",
        "\n",
        "covid19India = Covid19India()\n",
        "print(covid19India.date_min, covid19India.date_max)"
      ],
      "execution_count": 2,
      "outputs": [
        {
          "output_type": "stream",
          "name": "stdout",
          "text": [
            "2020-03-14 2021-09-25\n"
          ]
        }
      ]
    },
    {
      "cell_type": "markdown",
      "metadata": {
        "id": "qrBqT03vXgFX"
      },
      "source": [
        "## Top 20 States (First full year)"
      ]
    },
    {
      "cell_type": "code",
      "metadata": {
        "colab": {
          "base_uri": "https://localhost:8080/"
        },
        "id": "ZbCLOEhVVAJE",
        "outputId": "3beda077-30ea-4b25-d573-faa025976ddc"
      },
      "source": [
        "scores = []\n",
        "for code, name in [item for item in covid19India.state_name_map.items() if item[0] != 'TT']:\n",
        "  df = covid19India.get_state_data(code, date_end='2021-03-13')\n",
        "  max_val = max(df['Confirmed'].max(), df['Recovered'].max())\n",
        "  scores.append((code, max_val))\n",
        "\n",
        "top_20 = sorted(scores, key=lambda score: -score[1])[:20]\n",
        "top_20"
      ],
      "execution_count": 3,
      "outputs": [
        {
          "output_type": "execute_result",
          "data": {
            "text/plain": [
              "[('MH', 32007),\n",
              " ('KA', 13217),\n",
              " ('AP', 12750),\n",
              " ('KL', 11755),\n",
              " ('DL', 8775),\n",
              " ('CT', 8027),\n",
              " ('TN', 7758),\n",
              " ('UP', 7016),\n",
              " ('MP', 5729),\n",
              " ('OR', 4761),\n",
              " ('AS', 4593),\n",
              " ('WB', 4480),\n",
              " ('BR', 4140),\n",
              " ('RJ', 3314),\n",
              " ('JH', 3221),\n",
              " ('HR', 3104),\n",
              " ('TG', 3018),\n",
              " ('PB', 2848),\n",
              " ('JK', 2796),\n",
              " ('UT', 2078)]"
            ]
          },
          "metadata": {},
          "execution_count": 3
        }
      ]
    },
    {
      "cell_type": "code",
      "metadata": {
        "id": "VAzJdFAsKvoj",
        "colab": {
          "base_uri": "https://localhost:8080/"
        },
        "outputId": "da4ce83f-fd8c-4ba1-dbeb-5ac61ae4d0db"
      },
      "source": [
        "for code, _ in top_20:\n",
        "  df = covid19India.get_state_data(code, date_end='2021-03-13')\n",
        "  df.to_csv('%s-2020-21.csv' % code, index=False)\n",
        "\n",
        "!ls -l *.csv"
      ],
      "execution_count": 4,
      "outputs": [
        {
          "output_type": "stream",
          "name": "stdout",
          "text": [
            "-rw-r--r-- 1 root root 7895 Sep 26 06:43 AP-2020-21.csv\n",
            "-rw-r--r-- 1 root root 7441 Sep 26 06:43 AS-2020-21.csv\n",
            "-rw-r--r-- 1 root root 7641 Sep 26 06:43 BR-2020-21.csv\n",
            "-rw-r--r-- 1 root root 7725 Sep 26 06:43 CT-2020-21.csv\n",
            "-rw-r--r-- 1 root root 8192 Sep 26 06:43 DL-2020-21.csv\n",
            "-rw-r--r-- 1 root root 7767 Sep 26 06:43 HR-2020-21.csv\n",
            "-rw-r--r-- 1 root root 7343 Sep 26 06:43 JH-2020-21.csv\n",
            "-rw-r--r-- 1 root root 7498 Sep 26 06:43 JK-2020-21.csv\n",
            "-rw-r--r-- 1 root root 8075 Sep 26 06:43 KA-2020-21.csv\n",
            "-rw-r--r-- 1 root root 8054 Sep 26 06:43 KL-2020-21.csv\n",
            "-rw-r--r-- 1 root root 8874 Sep 26 06:43 MH-2020-21.csv\n",
            "-rw-r--r-- 1 root root 7925 Sep 26 06:43 MP-2020-21.csv\n",
            "-rw-r--r-- 1 root root 7690 Sep 26 06:43 OR-2020-21.csv\n",
            "-rw-r--r-- 1 root root 7724 Sep 26 06:43 PB-2020-21.csv\n",
            "-rw-r--r-- 1 root root 7971 Sep 26 06:43 RJ-2020-21.csv\n",
            "-rw-r--r-- 1 root root 7769 Sep 26 06:43 TG-2020-21.csv\n",
            "-rw-r--r-- 1 root root 8219 Sep 26 06:43 TN-2020-21.csv\n",
            "-rw-r--r-- 1 root root 8101 Sep 26 06:43 UP-2020-21.csv\n",
            "-rw-r--r-- 1 root root 7312 Sep 26 06:43 UT-2020-21.csv\n",
            "-rw-r--r-- 1 root root 8089 Sep 26 06:43 WB-2020-21.csv\n"
          ]
        }
      ]
    }
  ]
}